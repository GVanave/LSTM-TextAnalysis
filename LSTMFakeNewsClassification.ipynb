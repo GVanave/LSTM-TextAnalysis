{
  "nbformat": 4,
  "nbformat_minor": 0,
  "metadata": {
    "colab": {
      "provenance": []
    },
    "kernelspec": {
      "name": "python3",
      "display_name": "Python 3"
    },
    "language_info": {
      "name": "python"
    },
    "accelerator": "GPU",
    "gpuClass": "standard"
  },
  "cells": [
    {
      "cell_type": "code",
      "execution_count": null,
      "metadata": {
        "id": "ILjlz6cG6Enc"
      },
      "outputs": [],
      "source": [
        "import pandas as pd"
      ]
    },
    {
      "cell_type": "code",
      "source": [
        "df=pd.read_csv(\"/content/train.csv\",error_bad_lines=False, engine=\"python\")\n",
        "df.head(3)\n"
      ],
      "metadata": {
        "colab": {
          "base_uri": "https://localhost:8080/",
          "height": 250
        },
        "id": "NqwV8Nji6lsc",
        "outputId": "168ce949-be65-4134-f052-229daaaf9955"
      },
      "execution_count": null,
      "outputs": [
        {
          "output_type": "stream",
          "name": "stderr",
          "text": [
            "/usr/local/lib/python3.8/dist-packages/IPython/core/interactiveshell.py:3326: FutureWarning: The error_bad_lines argument has been deprecated and will be removed in a future version.\n",
            "\n",
            "\n",
            "  exec(code_obj, self.user_global_ns, self.user_ns)\n",
            "Skipping line 196: unexpected end of data\n"
          ]
        },
        {
          "output_type": "execute_result",
          "data": {
            "text/plain": [
              "   id                                              title              author  \\\n",
              "0   0  House Dem Aide: We Didn’t Even See Comey’s Let...       Darrell Lucus   \n",
              "1   1  FLYNN: Hillary Clinton, Big Woman on Campus - ...     Daniel J. Flynn   \n",
              "2   2                  Why the Truth Might Get You Fired  Consortiumnews.com   \n",
              "\n",
              "                                                text  label  \n",
              "0  House Dem Aide: We Didn’t Even See Comey’s Let...      1  \n",
              "1  Ever get the feeling your life circles the rou...      0  \n",
              "2  Why the Truth Might Get You Fired October 29, ...      1  "
            ],
            "text/html": [
              "\n",
              "  <div id=\"df-5718b9ef-f570-4d12-9523-81849f103ebb\">\n",
              "    <div class=\"colab-df-container\">\n",
              "      <div>\n",
              "<style scoped>\n",
              "    .dataframe tbody tr th:only-of-type {\n",
              "        vertical-align: middle;\n",
              "    }\n",
              "\n",
              "    .dataframe tbody tr th {\n",
              "        vertical-align: top;\n",
              "    }\n",
              "\n",
              "    .dataframe thead th {\n",
              "        text-align: right;\n",
              "    }\n",
              "</style>\n",
              "<table border=\"1\" class=\"dataframe\">\n",
              "  <thead>\n",
              "    <tr style=\"text-align: right;\">\n",
              "      <th></th>\n",
              "      <th>id</th>\n",
              "      <th>title</th>\n",
              "      <th>author</th>\n",
              "      <th>text</th>\n",
              "      <th>label</th>\n",
              "    </tr>\n",
              "  </thead>\n",
              "  <tbody>\n",
              "    <tr>\n",
              "      <th>0</th>\n",
              "      <td>0</td>\n",
              "      <td>House Dem Aide: We Didn’t Even See Comey’s Let...</td>\n",
              "      <td>Darrell Lucus</td>\n",
              "      <td>House Dem Aide: We Didn’t Even See Comey’s Let...</td>\n",
              "      <td>1</td>\n",
              "    </tr>\n",
              "    <tr>\n",
              "      <th>1</th>\n",
              "      <td>1</td>\n",
              "      <td>FLYNN: Hillary Clinton, Big Woman on Campus - ...</td>\n",
              "      <td>Daniel J. Flynn</td>\n",
              "      <td>Ever get the feeling your life circles the rou...</td>\n",
              "      <td>0</td>\n",
              "    </tr>\n",
              "    <tr>\n",
              "      <th>2</th>\n",
              "      <td>2</td>\n",
              "      <td>Why the Truth Might Get You Fired</td>\n",
              "      <td>Consortiumnews.com</td>\n",
              "      <td>Why the Truth Might Get You Fired October 29, ...</td>\n",
              "      <td>1</td>\n",
              "    </tr>\n",
              "  </tbody>\n",
              "</table>\n",
              "</div>\n",
              "      <button class=\"colab-df-convert\" onclick=\"convertToInteractive('df-5718b9ef-f570-4d12-9523-81849f103ebb')\"\n",
              "              title=\"Convert this dataframe to an interactive table.\"\n",
              "              style=\"display:none;\">\n",
              "        \n",
              "  <svg xmlns=\"http://www.w3.org/2000/svg\" height=\"24px\"viewBox=\"0 0 24 24\"\n",
              "       width=\"24px\">\n",
              "    <path d=\"M0 0h24v24H0V0z\" fill=\"none\"/>\n",
              "    <path d=\"M18.56 5.44l.94 2.06.94-2.06 2.06-.94-2.06-.94-.94-2.06-.94 2.06-2.06.94zm-11 1L8.5 8.5l.94-2.06 2.06-.94-2.06-.94L8.5 2.5l-.94 2.06-2.06.94zm10 10l.94 2.06.94-2.06 2.06-.94-2.06-.94-.94-2.06-.94 2.06-2.06.94z\"/><path d=\"M17.41 7.96l-1.37-1.37c-.4-.4-.92-.59-1.43-.59-.52 0-1.04.2-1.43.59L10.3 9.45l-7.72 7.72c-.78.78-.78 2.05 0 2.83L4 21.41c.39.39.9.59 1.41.59.51 0 1.02-.2 1.41-.59l7.78-7.78 2.81-2.81c.8-.78.8-2.07 0-2.86zM5.41 20L4 18.59l7.72-7.72 1.47 1.35L5.41 20z\"/>\n",
              "  </svg>\n",
              "      </button>\n",
              "      \n",
              "  <style>\n",
              "    .colab-df-container {\n",
              "      display:flex;\n",
              "      flex-wrap:wrap;\n",
              "      gap: 12px;\n",
              "    }\n",
              "\n",
              "    .colab-df-convert {\n",
              "      background-color: #E8F0FE;\n",
              "      border: none;\n",
              "      border-radius: 50%;\n",
              "      cursor: pointer;\n",
              "      display: none;\n",
              "      fill: #1967D2;\n",
              "      height: 32px;\n",
              "      padding: 0 0 0 0;\n",
              "      width: 32px;\n",
              "    }\n",
              "\n",
              "    .colab-df-convert:hover {\n",
              "      background-color: #E2EBFA;\n",
              "      box-shadow: 0px 1px 2px rgba(60, 64, 67, 0.3), 0px 1px 3px 1px rgba(60, 64, 67, 0.15);\n",
              "      fill: #174EA6;\n",
              "    }\n",
              "\n",
              "    [theme=dark] .colab-df-convert {\n",
              "      background-color: #3B4455;\n",
              "      fill: #D2E3FC;\n",
              "    }\n",
              "\n",
              "    [theme=dark] .colab-df-convert:hover {\n",
              "      background-color: #434B5C;\n",
              "      box-shadow: 0px 1px 3px 1px rgba(0, 0, 0, 0.15);\n",
              "      filter: drop-shadow(0px 1px 2px rgba(0, 0, 0, 0.3));\n",
              "      fill: #FFFFFF;\n",
              "    }\n",
              "  </style>\n",
              "\n",
              "      <script>\n",
              "        const buttonEl =\n",
              "          document.querySelector('#df-5718b9ef-f570-4d12-9523-81849f103ebb button.colab-df-convert');\n",
              "        buttonEl.style.display =\n",
              "          google.colab.kernel.accessAllowed ? 'block' : 'none';\n",
              "\n",
              "        async function convertToInteractive(key) {\n",
              "          const element = document.querySelector('#df-5718b9ef-f570-4d12-9523-81849f103ebb');\n",
              "          const dataTable =\n",
              "            await google.colab.kernel.invokeFunction('convertToInteractive',\n",
              "                                                     [key], {});\n",
              "          if (!dataTable) return;\n",
              "\n",
              "          const docLinkHtml = 'Like what you see? Visit the ' +\n",
              "            '<a target=\"_blank\" href=https://colab.research.google.com/notebooks/data_table.ipynb>data table notebook</a>'\n",
              "            + ' to learn more about interactive tables.';\n",
              "          element.innerHTML = '';\n",
              "          dataTable['output_type'] = 'display_data';\n",
              "          await google.colab.output.renderOutput(dataTable, element);\n",
              "          const docLink = document.createElement('div');\n",
              "          docLink.innerHTML = docLinkHtml;\n",
              "          element.appendChild(docLink);\n",
              "        }\n",
              "      </script>\n",
              "    </div>\n",
              "  </div>\n",
              "  "
            ]
          },
          "metadata": {},
          "execution_count": 2
        }
      ]
    },
    {
      "cell_type": "code",
      "source": [
        "df.isnull().shape"
      ],
      "metadata": {
        "colab": {
          "base_uri": "https://localhost:8080/"
        },
        "id": "M7nB0Aa3D7yY",
        "outputId": "3b97d02a-71cd-4c20-8c9c-0915bdde886a"
      },
      "execution_count": null,
      "outputs": [
        {
          "output_type": "execute_result",
          "data": {
            "text/plain": [
              "(194, 5)"
            ]
          },
          "metadata": {},
          "execution_count": 3
        }
      ]
    },
    {
      "cell_type": "code",
      "source": [
        "import nltk\n",
        "from nltk.corpus import stopwords\n",
        "import re \n",
        "\n",
        "nltk.download(\"stopwords\")"
      ],
      "metadata": {
        "colab": {
          "base_uri": "https://localhost:8080/"
        },
        "id": "AOlJBj0JG6Kb",
        "outputId": "d7483368-e46f-44c3-9472-6421c37485d8"
      },
      "execution_count": null,
      "outputs": [
        {
          "output_type": "stream",
          "name": "stderr",
          "text": [
            "[nltk_data] Downloading package stopwords to /root/nltk_data...\n",
            "[nltk_data]   Unzipping corpora/stopwords.zip.\n"
          ]
        },
        {
          "output_type": "execute_result",
          "data": {
            "text/plain": [
              "True"
            ]
          },
          "metadata": {},
          "execution_count": 4
        }
      ]
    },
    {
      "cell_type": "code",
      "source": [
        "a=df[\"title\"]\n",
        "for i in a:\n",
        "  print(i)"
      ],
      "metadata": {
        "id": "tEK_UkRRNiZj"
      },
      "execution_count": null,
      "outputs": []
    },
    {
      "cell_type": "code",
      "source": [
        "from nltk.stem.porter import PorterStemmer\n",
        "ps=PorterStemmer()\n",
        "df.dropna(how=\"any\",inplace=True)"
      ],
      "metadata": {
        "id": "myQcdthCIM8V"
      },
      "execution_count": null,
      "outputs": []
    },
    {
      "cell_type": "code",
      "source": [
        "messages=df[\"title\"]\n",
        "print((messages))"
      ],
      "metadata": {
        "colab": {
          "base_uri": "https://localhost:8080/"
        },
        "id": "JTdO8dsJKuJ2",
        "outputId": "c3845db9-e6fb-4887-bd80-6b278b480d06"
      },
      "execution_count": null,
      "outputs": [
        {
          "output_type": "stream",
          "name": "stdout",
          "text": [
            "0      House Dem Aide: We Didn’t Even See Comey’s Let...\n",
            "1      FLYNN: Hillary Clinton, Big Woman on Campus - ...\n",
            "2                      Why the Truth Might Get You Fired\n",
            "3      15 Civilians Killed In Single US Airstrike Hav...\n",
            "4      Iranian woman jailed for fictional unpublished...\n",
            "                             ...                        \n",
            "189    UK citizens and war heroes get cheap pre-fab h...\n",
            "190    After Vets Fight War, Feds Demand Money Back… ...\n",
            "191           Mr. Trump’s Wild Ride - The New York Times\n",
            "192    Here Is How FBI Director Comey BAMBOOZLED The ...\n",
            "193    20 Foods That Naturally Unclog Arteries and Pr...\n",
            "Name: title, Length: 170, dtype: object\n"
          ]
        }
      ]
    },
    {
      "cell_type": "code",
      "source": [
        "# data Preprocessing such as remove stopwords,lowering and apply stemming \n",
        "def data_preprocessing(input_messages):\n",
        "  data=[]\n",
        "  for i in input_messages :\n",
        "    \n",
        "    review=re.sub('[^a-zA-Z]',\" \",i)\n",
        "    review=review.lower()\n",
        "    review=review.split()\n",
        "    \n",
        "    review=[ps.stem(word) for word in review if word not in stopwords.words(\"english\")]\n",
        "    review=\" \".join(review)\n",
        "    data.append(review)\n",
        "  return data\n",
        "\n",
        "\n",
        "training_data=data_preprocessing(messages)\n"
      ],
      "metadata": {
        "id": "MuKZLPcVEiR4"
      },
      "execution_count": null,
      "outputs": []
    },
    {
      "cell_type": "code",
      "source": [],
      "metadata": {
        "colab": {
          "base_uri": "https://localhost:8080/"
        },
        "id": "TVfu9BwmOSVT",
        "outputId": "3d43eb11-1e68-4a82-a54e-6e05edd478d9"
      },
      "execution_count": null,
      "outputs": [
        {
          "output_type": "stream",
          "name": "stdout",
          "text": [
            "['hous dem aid even see comey letter jason chaffetz tweet', 'flynn hillari clinton big woman campu breitbart', 'truth might get fire', 'civilian kill singl us airstrik identifi', 'iranian woman jail fiction unpublish stori woman stone death adulteri', 'jacki mason hollywood would love trump bomb north korea lack tran bathroom exclus video breitbart', 'beno hamon win french socialist parti presidenti nomin new york time', 'back channel plan ukrain russia courtesi trump associ new york time', 'obama organ action partner soro link indivis disrupt trump agenda', 'bbc comedi sketch real housew isi caus outrag', 'russian research discov secret nazi militari base treasur hunter arctic photo', 'us offici see link trump russia', 'ye paid govern troll social media blog forum websit', 'major leagu soccer argentin find home success new york time', 'well fargo chief abruptli step new york time', 'anonym donor pay million releas everyon arrest dakota access pipelin', 'fbi close hillari', 'chuck todd buzzfe donald trump polit favor breitbart', 'monica lewinski clinton sex scandal set american crime stori', 'rob reiner trump mental unstabl breitbart', 'abort pill order rise latin american nation zika alert new york time', 'nuke un histor treati ban nuclear weapon', 'exclus islam state support vow shake west follow manchest terrorist massacr breitbart', 'humili hillari tri hide camera caught min ralli', 'andrea tantaro fox news claim retali sex harass complaint new york time', 'hillari clinton becam hawk new york time', 'chuck todd buzzfe eic publish fake news breitbart', 'bori johnson brexit leader fumbl new york time', 'texa oil field rebound price lull job left behind new york time', 'bayer deal monsanto follow agribusi trend rais worri farmer new york time', 'russia move ban jehovah wit extremist new york time', 'still danger zone januari th', 'open thread u elect', 'democrat gutierrez blame chicago gun violenc nra breitbart', 'avoid peanut avoid allergi bad strategi new york time', 'mri show detail imag week unborn babi breitbart', 'best kind milk dairi', 'ryan locht drop speedo usa retail new york time', 'conserv urg session clean obama civil right divis breitbart', 'intern inquiri seal fate roger ail fox new york time', 'press tv debat duff lebanon hezbollah aoun presid video', 'samsung combust galaxi note unveil new smartphon new york time', 'poland vow referendum migrant quota amidst eu pressur public voic heard breitbart', 'spark inner revolut', 'studi half car crash involv driver distract cell phone breitbart', 'trump elect spark individu collect heal', 'ep fade black jimmi church w laura eisenhow restor balanc video', 'cognit true islam book review', 'donald trump win elect biggest miracl us polit histori', 'mind eat way fight bing new york time', 'major potenti impact corpor tax overhaul new york time', 'wonder glp like day elect', 'maker world smallest machin award nobel prize chemistri new york time', 'massiv anti trump protest union squar nyc live stream', 'review lion bring tear lost boy wipe dri googl new york time', 'u gener islam state chemic attack impact u forc', 'juri find oregon standoff defend guilti feder conspiraci gun charg', 'clinton campaign stun fbi reportedli reopen probe hillari clinton email', 'penc speak anti abort ralli new york time', 'berni sander say media trump gutless polit coward', 'make briquett daili wast', 'treason nyt vow reded report', 'dress like woman mean new york time', 'ella brennan still feed lead new orlean new york time', 'press asia agenda obama tread lightli human right new york time', 'democrat percent chanc retak senat new york time', 'judg spank transgend obsess obama lie redflag news', 'u diplomat urg strike assad syria new york time', 'franken call independ investig trump putin crush breitbart', 'louisiana simon bile u presidenti race tuesday even brief new york time', 'turkey threaten open migrant land passag europ row dutch', 'huma weiner dog hillari', 'colin kaepernick start black panther inspir youth camp wow', 'trump immigr polici explain new york time', 'mari tyler moor mourn dick van dyke star new york time', 'poison', 'trump fan ralli across nation support presid new york time', 'fox biz report help bash clinton ralli cover trump pack event day', 'fiction podcast worth listen new york time', 'mike birbiglia tip make small hollywood anywher new york time', 'invest strategist forecast collaps timelin last gasp econom cycl come', 'venezuela muzzl legislatur move closer one man rule new york time', 'whether john mccain mitt romney donald trump democrat alway run war women tactic destroy republican candid', 'breitbart news daili trump boom breitbart', 'white hous confirm gitmo transfer obama leav offic', 'poll voter heard democrat elect candid breitbart', 'migrant confront judgment day old deport order new york time', 'n u yale su retir plan fee new york time', 'technocraci real reason un want control internet', 'american driver regain appetit ga guzzler new york time', 'hillari clinton build million war chest doubl donald trump new york time', 'trump catch sick report snuck interview priceless respons', 'senat contact russian govern week', 'imag perfectli illustr struggl dakota access pipelin', 'washington state take refuge muslim rest countri take refuge muslim breitbart', 'ncaa big keep watch eye texa bathroom bill breitbart', 'massiv espn financi subscrib loss drag disney first quarter sale breitbart', 'megyn kelli contract set expir next year prime big show new york time', 'teacher suspend allow student hit trump pinata cinco de mayo', 'break trump express concern anthoni weiner illeg access classifi info month ago truthfe', 'snap share leap debut investor doubt valu vanish new york time', 'clinton campaign chair dinner top doj offici one day hillari benghazi hear', 'tv seri first femal mlb pitcher can one low rate season breitbart', 'seek best fit women final four return friday sunday new york time', 'propos canadian nation bird ruffl feather new york time', 'review beyonc make lemonad marit strife new york time', 'trump ask sharp increas militari spend offici say new york time', 'waterg smoke gun email discuss clean obama hillari email', 'chapo trap hous new left wing podcast flagrant rip right stuff', 'taiwan respond china send carrier taiwan strait new york time', 'mother octob surpris hous card come tumbl', 'explos assang pilger interview us elect expect riot hillari win', 'telescop ate astronomi track surpass hubbl new york time', 'close afghan pakistani border becom humanitarian crisi new york time', 'tv anchor arriv white hous lunch donald trump breitbart', 'pelosi republican tell trump bring dishonor presid breitbart', 'beauti prehistor world earth wasteland', 'ignor trump news week learn new york time', 'donald trump unveil plan famili bid women vote new york time', 'montana democrat vote bill ban sharia law call repugn breitbart', 'monsanto tribun go happen', 'offici simon bile world best gymnast new york time', 'liter hurt brain read econom idioci emit trumpkin libertarian', 'u n secretari gener complain mass reject global favor nation', 'trump bollywood ad meant sway indian american voter hilari fail video', 'fbi find previous unseen hillari clinton email weiner laptop', 'year american journalist kill conspiraci theori syria proven fact', 'report illeg alien forego food stamp stay trump radar', 'make netherland great hahaha spread worldwid', 'four kill injur jerusalem truck ram terror attack', 'leader salut comrad newt brutal megyn sic kelli beatdown play game', 'student black colleg got beaten mace protest kkk david duke', 'despit strict gun control one child youth shot everi day ontario', 'rise internet fan bulli new york time', 'newli vibrant washington fear trump drain cultur new york time', 'fed hold interest rate steadi plan slower increas new york time', 'battl unesco', 'latest test white hous pull easter egg roll new york time', 'burlesqu dancer fire investig secret servic trump assassin tweet breitbart', 'clinton haiti', 'cuomo christi parallel path top troubl got new york time', 'top place world allow visit', 'new studi link fluorid consumpt hypothyroid weight gain wors', 'jame matti secretari offens', 'black church burn spray paint vote trump', 'sear agre sell craftsman stanley black amp decker rais cash new york time', 'takata chief execut resign financi pressur mount new york time', 'goodby good black sabbath new york time', 'teen geisha doll gang bust arm robberi breitbart', 'mohamad khwei anoth virginia man palestinian american muslim charg terror', 'price obamacar replac nobodi wors financi breitbart', 'va fail properli examin thousand veteran', 'trump famili alreadi sworn secreci fake moon land soon', 'sport writer nfl great jim brown decad civil right work eras say nice thing donald trump breitbart', 'watch tv excus republican skip donald trump convent new york time', 'open letter trump voter told like', 'comment power corpor lobbi quietli back hillari nobodi talk runsinquicksand', 'hijack end peac libyan airlin land malta new york time', 'like girl girl geniu new york time', 'scientist say canadian bacteria fossil may earth oldest new york time', 'pro govern forc advanc syria amid talk u russia cooper new york time', 'cancer agenc fire withhold carcinogen glyphos document', 'work walk minut work new york time', 'steve harvey talk hous presid elect trump new york time', 'coalit u troop fight mosul offens come fire', 'uk citizen war hero get cheap pre fab hous muslim colon get taxpay fund luxuri council home', 'vet fight war fed demand money back illeg refuge keep money', 'mr trump wild ride new york time', 'fbi director comey bamboozl doj congress clinton', 'food natur unclog arteri prevent heart attack']\n"
          ]
        }
      ]
    },
    {
      "cell_type": "code",
      "source": [
        "# wwe are going to implement the whole code using tensorflow\n",
        "!pip install tensorflow\n"
      ],
      "metadata": {
        "colab": {
          "base_uri": "https://localhost:8080/"
        },
        "id": "yo4GNx-gQ10h",
        "outputId": "d4238a25-e021-4111-f6eb-1f89ee930dde"
      },
      "execution_count": null,
      "outputs": [
        {
          "output_type": "stream",
          "name": "stdout",
          "text": [
            "Looking in indexes: https://pypi.org/simple, https://us-python.pkg.dev/colab-wheels/public/simple/\n",
            "Requirement already satisfied: tensorflow in /usr/local/lib/python3.8/dist-packages (2.9.2)\n",
            "Requirement already satisfied: libclang>=13.0.0 in /usr/local/lib/python3.8/dist-packages (from tensorflow) (15.0.6.1)\n",
            "Requirement already satisfied: grpcio<2.0,>=1.24.3 in /usr/local/lib/python3.8/dist-packages (from tensorflow) (1.51.1)\n",
            "Requirement already satisfied: tensorflow-io-gcs-filesystem>=0.23.1 in /usr/local/lib/python3.8/dist-packages (from tensorflow) (0.29.0)\n",
            "Requirement already satisfied: numpy>=1.20 in /usr/local/lib/python3.8/dist-packages (from tensorflow) (1.21.6)\n",
            "Requirement already satisfied: protobuf<3.20,>=3.9.2 in /usr/local/lib/python3.8/dist-packages (from tensorflow) (3.19.6)\n",
            "Requirement already satisfied: tensorboard<2.10,>=2.9 in /usr/local/lib/python3.8/dist-packages (from tensorflow) (2.9.1)\n",
            "Requirement already satisfied: astunparse>=1.6.0 in /usr/local/lib/python3.8/dist-packages (from tensorflow) (1.6.3)\n",
            "Requirement already satisfied: termcolor>=1.1.0 in /usr/local/lib/python3.8/dist-packages (from tensorflow) (2.2.0)\n",
            "Requirement already satisfied: opt-einsum>=2.3.2 in /usr/local/lib/python3.8/dist-packages (from tensorflow) (3.3.0)\n",
            "Requirement already satisfied: h5py>=2.9.0 in /usr/local/lib/python3.8/dist-packages (from tensorflow) (3.1.0)\n",
            "Requirement already satisfied: typing-extensions>=3.6.6 in /usr/local/lib/python3.8/dist-packages (from tensorflow) (4.4.0)\n",
            "Requirement already satisfied: wrapt>=1.11.0 in /usr/local/lib/python3.8/dist-packages (from tensorflow) (1.14.1)\n",
            "Requirement already satisfied: google-pasta>=0.1.1 in /usr/local/lib/python3.8/dist-packages (from tensorflow) (0.2.0)\n",
            "Requirement already satisfied: gast<=0.4.0,>=0.2.1 in /usr/local/lib/python3.8/dist-packages (from tensorflow) (0.4.0)\n",
            "Requirement already satisfied: setuptools in /usr/local/lib/python3.8/dist-packages (from tensorflow) (57.4.0)\n",
            "Requirement already satisfied: flatbuffers<2,>=1.12 in /usr/local/lib/python3.8/dist-packages (from tensorflow) (1.12)\n",
            "Requirement already satisfied: tensorflow-estimator<2.10.0,>=2.9.0rc0 in /usr/local/lib/python3.8/dist-packages (from tensorflow) (2.9.0)\n",
            "Requirement already satisfied: keras<2.10.0,>=2.9.0rc0 in /usr/local/lib/python3.8/dist-packages (from tensorflow) (2.9.0)\n",
            "Requirement already satisfied: packaging in /usr/local/lib/python3.8/dist-packages (from tensorflow) (21.3)\n",
            "Requirement already satisfied: absl-py>=1.0.0 in /usr/local/lib/python3.8/dist-packages (from tensorflow) (1.3.0)\n",
            "Requirement already satisfied: six>=1.12.0 in /usr/local/lib/python3.8/dist-packages (from tensorflow) (1.15.0)\n",
            "Requirement already satisfied: keras-preprocessing>=1.1.1 in /usr/local/lib/python3.8/dist-packages (from tensorflow) (1.1.2)\n",
            "Requirement already satisfied: wheel<1.0,>=0.23.0 in /usr/local/lib/python3.8/dist-packages (from astunparse>=1.6.0->tensorflow) (0.38.4)\n",
            "Requirement already satisfied: google-auth-oauthlib<0.5,>=0.4.1 in /usr/local/lib/python3.8/dist-packages (from tensorboard<2.10,>=2.9->tensorflow) (0.4.6)\n",
            "Requirement already satisfied: requests<3,>=2.21.0 in /usr/local/lib/python3.8/dist-packages (from tensorboard<2.10,>=2.9->tensorflow) (2.25.1)\n",
            "Requirement already satisfied: tensorboard-data-server<0.7.0,>=0.6.0 in /usr/local/lib/python3.8/dist-packages (from tensorboard<2.10,>=2.9->tensorflow) (0.6.1)\n",
            "Requirement already satisfied: google-auth<3,>=1.6.3 in /usr/local/lib/python3.8/dist-packages (from tensorboard<2.10,>=2.9->tensorflow) (2.16.0)\n",
            "Requirement already satisfied: tensorboard-plugin-wit>=1.6.0 in /usr/local/lib/python3.8/dist-packages (from tensorboard<2.10,>=2.9->tensorflow) (1.8.1)\n",
            "Requirement already satisfied: markdown>=2.6.8 in /usr/local/lib/python3.8/dist-packages (from tensorboard<2.10,>=2.9->tensorflow) (3.4.1)\n",
            "Requirement already satisfied: werkzeug>=1.0.1 in /usr/local/lib/python3.8/dist-packages (from tensorboard<2.10,>=2.9->tensorflow) (1.0.1)\n",
            "Requirement already satisfied: pyparsing!=3.0.5,>=2.0.2 in /usr/local/lib/python3.8/dist-packages (from packaging->tensorflow) (3.0.9)\n",
            "Requirement already satisfied: pyasn1-modules>=0.2.1 in /usr/local/lib/python3.8/dist-packages (from google-auth<3,>=1.6.3->tensorboard<2.10,>=2.9->tensorflow) (0.2.8)\n",
            "Requirement already satisfied: cachetools<6.0,>=2.0.0 in /usr/local/lib/python3.8/dist-packages (from google-auth<3,>=1.6.3->tensorboard<2.10,>=2.9->tensorflow) (5.2.1)\n",
            "Requirement already satisfied: rsa<5,>=3.1.4 in /usr/local/lib/python3.8/dist-packages (from google-auth<3,>=1.6.3->tensorboard<2.10,>=2.9->tensorflow) (4.9)\n",
            "Requirement already satisfied: requests-oauthlib>=0.7.0 in /usr/local/lib/python3.8/dist-packages (from google-auth-oauthlib<0.5,>=0.4.1->tensorboard<2.10,>=2.9->tensorflow) (1.3.1)\n",
            "Requirement already satisfied: importlib-metadata>=4.4 in /usr/local/lib/python3.8/dist-packages (from markdown>=2.6.8->tensorboard<2.10,>=2.9->tensorflow) (6.0.0)\n",
            "Requirement already satisfied: idna<3,>=2.5 in /usr/local/lib/python3.8/dist-packages (from requests<3,>=2.21.0->tensorboard<2.10,>=2.9->tensorflow) (2.10)\n",
            "Requirement already satisfied: urllib3<1.27,>=1.21.1 in /usr/local/lib/python3.8/dist-packages (from requests<3,>=2.21.0->tensorboard<2.10,>=2.9->tensorflow) (1.24.3)\n",
            "Requirement already satisfied: certifi>=2017.4.17 in /usr/local/lib/python3.8/dist-packages (from requests<3,>=2.21.0->tensorboard<2.10,>=2.9->tensorflow) (2022.12.7)\n",
            "Requirement already satisfied: chardet<5,>=3.0.2 in /usr/local/lib/python3.8/dist-packages (from requests<3,>=2.21.0->tensorboard<2.10,>=2.9->tensorflow) (4.0.0)\n",
            "Requirement already satisfied: zipp>=0.5 in /usr/local/lib/python3.8/dist-packages (from importlib-metadata>=4.4->markdown>=2.6.8->tensorboard<2.10,>=2.9->tensorflow) (3.11.0)\n",
            "Requirement already satisfied: pyasn1<0.5.0,>=0.4.6 in /usr/local/lib/python3.8/dist-packages (from pyasn1-modules>=0.2.1->google-auth<3,>=1.6.3->tensorboard<2.10,>=2.9->tensorflow) (0.4.8)\n",
            "Requirement already satisfied: oauthlib>=3.0.0 in /usr/local/lib/python3.8/dist-packages (from requests-oauthlib>=0.7.0->google-auth-oauthlib<0.5,>=0.4.1->tensorboard<2.10,>=2.9->tensorflow) (3.2.2)\n"
          ]
        }
      ]
    },
    {
      "cell_type": "code",
      "source": [
        "# importing different required libaries \n",
        "from tensorflow.keras.preprocessing.sequence import pad_sequences\n",
        "from tensorflow.keras.models import Sequential\n",
        "from tensorflow.keras.layers import LSTM\n",
        "from tensorflow.keras.preprocessing.text import one_hot\n",
        "from tensorflow.keras.layers import Dense\n",
        "from tensorflow.keras.layers import Embedding\n",
        "from tensorflow.keras.layers import Dropout"
      ],
      "metadata": {
        "id": "aaPqeY57RLF3"
      },
      "execution_count": null,
      "outputs": []
    },
    {
      "cell_type": "code",
      "source": [
        "# we are specifing the vocab size (unique words)\n",
        "vc_size=300"
      ],
      "metadata": {
        "id": "45vxiPCESEr1"
      },
      "execution_count": null,
      "outputs": []
    },
    {
      "cell_type": "code",
      "source": [
        "import numpy as np\n"
      ],
      "metadata": {
        "id": "sBL3ZSw9YryX"
      },
      "execution_count": null,
      "outputs": []
    },
    {
      "cell_type": "code",
      "source": [
        "# applying the one-hot encoding method.\n",
        "# where vc_size can be used as tuning parameter\n",
        "\n",
        "\n",
        "# it is very important to have input with same diamesion, using max_len 40 we are converting each sentence into 40 different features, padding can be pre of post\n",
        "# [135, 184, 266, 88, 114, 85, 297, 134, 44, 129]  after pre padding this will beacuse [0,0,0,0,0,0,0,0,135, 184, 266, 88, 114, 85, 297, 134, 44, 129] and \n",
        "# [135, 184, 266, 88, 114, 85, 297, 134, 44, 129,0,0,0,0,0,0,0,0,0] called post padding where max_len is 18. this for example to show what is pre and post padding\n",
        "def word_conversion(vocbulary_size,data_for_traing):\n",
        "  one_hot_format=[one_hot(doc,vc_size) for doc in data_for_traing]\n",
        "  word_embedding=pad_sequences(one_hot_format,maxlen=40,padding=\"pre\")\n",
        "  return word_embedding\n",
        "encode_word=word_conversion(vc_size,training_data)\n",
        "print(encode_word.shape)\n"
      ],
      "metadata": {
        "colab": {
          "base_uri": "https://localhost:8080/"
        },
        "id": "F5-HrRoMSJMh",
        "outputId": "fdefbc34-c8a7-4242-8fc1-da1588853223"
      },
      "execution_count": null,
      "outputs": [
        {
          "output_type": "stream",
          "name": "stdout",
          "text": [
            "(170, 40)\n"
          ]
        }
      ]
    },
    {
      "cell_type": "code",
      "source": [
        "input_diamension=40 # as we have featurized each word in 40 diamensions"
      ],
      "metadata": {
        "id": "tJyEOq7VTohI"
      },
      "execution_count": null,
      "outputs": []
    },
    {
      "cell_type": "code",
      "source": [
        "# let's build the model for classification of fake new using LSTM\n",
        "# first layer must be embedding layer\n",
        "# second: LSTM \n",
        "# then Dense layer along with activation function, sigmoid mainly for binary classification\n",
        "\n",
        "#addition touch duitn training\n",
        "# we can also try to chekc purformance of model using dropout layer at different positions\n",
        "output_size=30\n",
        "sent_lenght=40\n",
        "model=Sequential()\n",
        "model.add(Embedding(sent_lenght,output_size))\n",
        "\n",
        "model.add(LSTM(100))\n",
        "\n",
        "model.add(Dense(1,activation=\"sigmoid\"))\n",
        "model.compile(loss='binary_crossentropy',optimizer=\"adam\",metrics=[\"accuracy\"])\n",
        "model.summary()"
      ],
      "metadata": {
        "colab": {
          "base_uri": "https://localhost:8080/"
        },
        "id": "fik3wxF1UEcq",
        "outputId": "28657b70-450c-4cf6-c27a-b4773ef1f081"
      },
      "execution_count": null,
      "outputs": [
        {
          "output_type": "stream",
          "name": "stdout",
          "text": [
            "Model: \"sequential_6\"\n",
            "_________________________________________________________________\n",
            " Layer (type)                Output Shape              Param #   \n",
            "=================================================================\n",
            " embedding_6 (Embedding)     (None, None, 30)          1200      \n",
            "                                                                 \n",
            " lstm_4 (LSTM)               (None, 100)               52400     \n",
            "                                                                 \n",
            " dense_4 (Dense)             (None, 1)                 101       \n",
            "                                                                 \n",
            "=================================================================\n",
            "Total params: 53,701\n",
            "Trainable params: 53,701\n",
            "Non-trainable params: 0\n",
            "_________________________________________________________________\n"
          ]
        }
      ]
    },
    {
      "cell_type": "code",
      "source": [
        "df.dropna()\n",
        "# prepare x and y data, civert them into array form\n",
        "y=np.array(df[\"label\"])\n",
        "x=np.array(encode_word)\n",
        "\n",
        "print(x.shape,y.shape)\n",
        "\n"
      ],
      "metadata": {
        "colab": {
          "base_uri": "https://localhost:8080/"
        },
        "id": "svk4W95tYeaF",
        "outputId": "cca0d457-a332-4eca-9eda-084d3bc2ca2f"
      },
      "execution_count": null,
      "outputs": [
        {
          "output_type": "stream",
          "name": "stdout",
          "text": [
            "(170, 40) (170,)\n"
          ]
        }
      ]
    },
    {
      "cell_type": "code",
      "source": [
        "from sklearn.model_selection import train_test_split\n"
      ],
      "metadata": {
        "id": "xXF9TNNRZO05"
      },
      "execution_count": null,
      "outputs": []
    },
    {
      "cell_type": "code",
      "source": [
        "# splitting the data into train and test uisng sklearn method\n",
        "train_x,test_x,train_y,test_y=train_test_split(x,y,test_size=0.2)\n"
      ],
      "metadata": {
        "id": "BAiVZfYNZmTb"
      },
      "execution_count": null,
      "outputs": []
    },
    {
      "cell_type": "code",
      "source": [
        "# training the model \n",
        "model.fit(train_x,train_y,validation_data=(test_x,test_y),epochs=15,shuffle=False,batch_size=50)"
      ],
      "metadata": {
        "colab": {
          "base_uri": "https://localhost:8080/"
        },
        "id": "rQTjiVQaZ4bO",
        "outputId": "10b85fed-f85d-4713-c7f4-111edc9764eb"
      },
      "execution_count": null,
      "outputs": [
        {
          "output_type": "stream",
          "name": "stdout",
          "text": [
            "Epoch 1/15\n",
            "3/3 [==============================] - 2s 228ms/step - loss: 0.6922 - accuracy: 0.5221 - val_loss: 0.6892 - val_accuracy: 0.5882\n",
            "Epoch 2/15\n",
            "3/3 [==============================] - 0s 17ms/step - loss: 0.6880 - accuracy: 0.5956 - val_loss: 0.6849 - val_accuracy: 0.5882\n",
            "Epoch 3/15\n",
            "3/3 [==============================] - 0s 17ms/step - loss: 0.6830 - accuracy: 0.5956 - val_loss: 0.6793 - val_accuracy: 0.5882\n",
            "Epoch 4/15\n",
            "3/3 [==============================] - 0s 16ms/step - loss: 0.6766 - accuracy: 0.5956 - val_loss: 0.6737 - val_accuracy: 0.5882\n",
            "Epoch 5/15\n",
            "3/3 [==============================] - 0s 16ms/step - loss: 0.6707 - accuracy: 0.5956 - val_loss: 0.6719 - val_accuracy: 0.5882\n",
            "Epoch 6/15\n",
            "3/3 [==============================] - 0s 16ms/step - loss: 0.6653 - accuracy: 0.5956 - val_loss: 0.6696 - val_accuracy: 0.5882\n",
            "Epoch 7/15\n",
            "3/3 [==============================] - 0s 25ms/step - loss: 0.6596 - accuracy: 0.5956 - val_loss: 0.6704 - val_accuracy: 0.6176\n",
            "Epoch 8/15\n",
            "3/3 [==============================] - 0s 19ms/step - loss: 0.6570 - accuracy: 0.6324 - val_loss: 0.6697 - val_accuracy: 0.6176\n",
            "Epoch 9/15\n",
            "3/3 [==============================] - 0s 16ms/step - loss: 0.6503 - accuracy: 0.6176 - val_loss: 0.6714 - val_accuracy: 0.5882\n",
            "Epoch 10/15\n",
            "3/3 [==============================] - 0s 16ms/step - loss: 0.6412 - accuracy: 0.6176 - val_loss: 0.6763 - val_accuracy: 0.7353\n",
            "Epoch 11/15\n",
            "3/3 [==============================] - 0s 19ms/step - loss: 0.6390 - accuracy: 0.6765 - val_loss: 0.6846 - val_accuracy: 0.6176\n",
            "Epoch 12/15\n",
            "3/3 [==============================] - 0s 16ms/step - loss: 0.6276 - accuracy: 0.6397 - val_loss: 0.6932 - val_accuracy: 0.7941\n",
            "Epoch 13/15\n",
            "3/3 [==============================] - 0s 16ms/step - loss: 0.6252 - accuracy: 0.6912 - val_loss: 0.7097 - val_accuracy: 0.7353\n",
            "Epoch 14/15\n",
            "3/3 [==============================] - 0s 16ms/step - loss: 0.6128 - accuracy: 0.6765 - val_loss: 0.7202 - val_accuracy: 0.7941\n",
            "Epoch 15/15\n",
            "3/3 [==============================] - 0s 18ms/step - loss: 0.6107 - accuracy: 0.6985 - val_loss: 0.7509 - val_accuracy: 0.7353\n"
          ]
        },
        {
          "output_type": "execute_result",
          "data": {
            "text/plain": [
              "<keras.callbacks.History at 0x7f784a456df0>"
            ]
          },
          "metadata": {},
          "execution_count": 68
        }
      ]
    },
    {
      "cell_type": "code",
      "source": [
        "from sklearn.metrics import accuracy_score,classification_report"
      ],
      "metadata": {
        "id": "DnymQf5FbrS3"
      },
      "execution_count": null,
      "outputs": []
    },
    {
      "cell_type": "code",
      "source": [],
      "metadata": {
        "id": "SGIDCae7PAmh"
      },
      "execution_count": null,
      "outputs": []
    },
    {
      "cell_type": "code",
      "source": [
        "y_pred=model.predict(test_x)"
      ],
      "metadata": {
        "colab": {
          "base_uri": "https://localhost:8080/"
        },
        "id": "zYPDK78tbyUH",
        "outputId": "18481fa0-668b-43ef-f64e-cd81672385ab"
      },
      "execution_count": null,
      "outputs": [
        {
          "output_type": "stream",
          "name": "stdout",
          "text": [
            "2/2 [==============================] - 0s 7ms/step\n"
          ]
        }
      ]
    },
    {
      "cell_type": "code",
      "source": [
        "y_pred=np.where(y_pred > 0.5,1,0)"
      ],
      "metadata": {
        "id": "5XxDRpHBcTIZ"
      },
      "execution_count": null,
      "outputs": []
    },
    {
      "cell_type": "code",
      "source": [
        "from sklearn.metrics import classification_report"
      ],
      "metadata": {
        "id": "rpfgGCtbc3qY"
      },
      "execution_count": null,
      "outputs": []
    },
    {
      "cell_type": "code",
      "source": [
        "accuracy_score(test_y,y_pred)"
      ],
      "metadata": {
        "colab": {
          "base_uri": "https://localhost:8080/"
        },
        "id": "gk7hk-hwcwtU",
        "outputId": "205c2a9a-d0ba-458b-ba4e-3321cf9f00bd"
      },
      "execution_count": null,
      "outputs": [
        {
          "output_type": "execute_result",
          "data": {
            "text/plain": [
              "0.7535483870967742"
            ]
          },
          "metadata": {},
          "execution_count": 73
        }
      ]
    },
    {
      "cell_type": "code",
      "source": [
        "classification_report(test_y,y_pred)"
      ],
      "metadata": {
        "colab": {
          "base_uri": "https://localhost:8080/",
          "height": 88
        },
        "id": "H9ghiTMbc-o-",
        "outputId": "d6ec07a8-1e94-48a8-9c0f-350149447e8f"
      },
      "execution_count": null,
      "outputs": [
        {
          "output_type": "execute_result",
          "data": {
            "text/plain": [
              "'              precision    recall  f1-score   support\\n\\n           0       0.76      0.83      0.80       452\\n           1       0.73      0.64      0.68       323\\n\\n    accuracy                           0.75       775\\n   macro avg       0.75      0.74      0.74       775\\nweighted avg       0.75      0.75      0.75       775\\n'"
            ],
            "application/vnd.google.colaboratory.intrinsic+json": {
              "type": "string"
            }
          },
          "metadata": {},
          "execution_count": 74
        }
      ]
    },
    {
      "cell_type": "code",
      "source": [
        "def model_testing(input_sentence):\n",
        "  test_sen=[]\n",
        "  if \n",
        "    review=re.sub('[^a-zA-Z]',\" \",input_sentence)\n",
        "    review=review.lower()\n",
        "    review=review.split()\n",
        "    \n",
        "    review=[ps.stem(word) for word in review if word not in stopwords.words(\"english\")]\n",
        "    review=\" \".join(review)\n",
        "    test_sen.append(review)\n",
        "  return test_sen\n",
        "\n"
      ],
      "metadata": {
        "id": "M3Rclgd9K-2A"
      },
      "execution_count": null,
      "outputs": []
    }
  ]
}